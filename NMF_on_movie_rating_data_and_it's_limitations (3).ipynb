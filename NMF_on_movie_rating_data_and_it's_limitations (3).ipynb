{
  "nbformat": 4,
  "nbformat_minor": 0,
  "metadata": {
    "colab": {
      "provenance": []
    },
    "kernelspec": {
      "name": "python3",
      "display_name": "Python 3"
    },
    "language_info": {
      "name": "python"
    }
  },
  "cells": [
    {
      "cell_type": "markdown",
      "source": [
        "<a id=\"0\"></a> <br>\n",
        " # Table of Contents  \n",
        "\n",
        "- Part 1:  [Load data and predict with matrix factorization technique(s)](#1)\n",
        "- Part 2:  [Why NMF didn't work well and way to fix](#2)   \n"
      ],
      "metadata": {
        "id": "1fWvG4Z5spIq"
      }
    },
    {
      "cell_type": "markdown",
      "source": [
        "### Goal of this exercise\n",
        "In this exercise, we will build a recommender systems using negative matrix factorization (NMF) that predict movie ratings.\n",
        "\n",
        "We've built recommender systems using other methods in a previous homework exercise (which by policty I can't post in public). We will compare RMSE of NMF vs other systems and discuss the limitation of NMF. Then, I will try possible method(s) to solve the problem or improve the performance a bit.\n"
      ],
      "metadata": {
        "id": "ix3Bwzey-TLS"
      }
    },
    {
      "cell_type": "markdown",
      "source": [
        "# <a id=\"1\"></a>\n",
        "# Part 1: Load movie rating data and predict missing ratings with matrix factorization\n",
        "In this part, we will load the movie ratings data (as in the HW3-recommender-system) and use matrix factorization technique(s) and predict the missing ratings from the test data."
      ],
      "metadata": {
        "id": "n9LkVvGss6_u"
      }
    },
    {
      "cell_type": "code",
      "execution_count": null,
      "metadata": {
        "id": "9QHeUAGiBghj"
      },
      "outputs": [],
      "source": [
        "# import files\n",
        "\n",
        "# general\n",
        "import pandas as pd\n",
        "import numpy as np\n",
        "import os\n",
        "import matplotlib.pyplot as plt\n",
        "from collections import namedtuple\n",
        "# from pytest import approx\n",
        "\n",
        "#sklearn\n",
        "from sklearn.impute import SimpleImputer\n",
        "from sklearn.model_selection import train_test_split\n",
        "from sklearn.decomposition import NMF\n",
        "\n",
        "#scipy\n",
        "import scipy.sparse as sp\n",
        "from scipy.sparse import coo_matrix, csr_matrix, hstack\n",
        "from scipy.sparse.linalg import norm"
      ]
    },
    {
      "cell_type": "code",
      "source": [
        "# Load files from current directory\n",
        "MV_users = pd.read_csv('./users.csv')\n",
        "MV_movies = pd.read_csv('./movies.csv')\n",
        "train = pd.read_csv('./train.csv')\n",
        "test = pd.read_csv('./test.csv')"
      ],
      "metadata": {
        "id": "KSWsmGIHQxWi"
      },
      "execution_count": null,
      "outputs": []
    },
    {
      "cell_type": "code",
      "source": [
        "# Take a look at data\n",
        "print(MV_users.head()) #6040*5\n",
        "print(\"MV_users: \", MV_users.shape)\n",
        "print(\"---------\\n-----------\")\n",
        "print(MV_movies.head()) #3883*21\n",
        "print(\"MV_movies: \", MV_movies.shape)\n",
        "print(\"---------\\n-----------\")\n",
        "print(train.head()) #(700146, 3)\n",
        "print(\"train: \", train.shape)\n",
        "print(test.head()) #(300063, 3)\n",
        "print(\"test: \", test.shape)"
      ],
      "metadata": {
        "colab": {
          "base_uri": "https://localhost:8080/"
        },
        "id": "2ImpBN-ubVAa",
        "outputId": "a0d65d33-f1f4-466d-9686-4e7a07a3630d"
      },
      "execution_count": null,
      "outputs": [
        {
          "output_type": "stream",
          "name": "stdout",
          "text": [
            "   uID gender  age  accupation    zip\n",
            "0    1      F    1          10  48067\n",
            "1    2      M   56          16  70072\n",
            "2    3      M   25          15  55117\n",
            "3    4      M   45           7  02460\n",
            "4    5      M   25          20  55455\n",
            "MV_users:  (6040, 5)\n",
            "---------\n",
            "-----------\n",
            "   mID                        title  year  Doc  Com  Hor  Adv  Wes  Dra  Ani  \\\n",
            "0    1                    Toy Story  1995    0    1    0    0    0    0    1   \n",
            "1    2                      Jumanji  1995    0    0    0    1    0    0    0   \n",
            "2    3             Grumpier Old Men  1995    0    1    0    0    0    0    0   \n",
            "3    4            Waiting to Exhale  1995    0    1    0    0    0    1    0   \n",
            "4    5  Father of the Bride Part II  1995    0    1    0    0    0    0    0   \n",
            "\n",
            "   ...  Chi  Cri  Thr  Sci  Mys  Rom  Fil  Fan  Act  Mus  \n",
            "0  ...    1    0    0    0    0    0    0    0    0    0  \n",
            "1  ...    1    0    0    0    0    0    0    1    0    0  \n",
            "2  ...    0    0    0    0    0    1    0    0    0    0  \n",
            "3  ...    0    0    0    0    0    0    0    0    0    0  \n",
            "4  ...    0    0    0    0    0    0    0    0    0    0  \n",
            "\n",
            "[5 rows x 21 columns]\n",
            "MV_movies:  (3883, 21)\n",
            "---------\n",
            "-----------\n",
            "    uID   mID  rating\n",
            "0   744  1210       5\n",
            "1  3040  1584       4\n",
            "2  1451  1293       5\n",
            "3  5455  3176       2\n",
            "4  2507  3074       5\n",
            "train:  (700146, 3)\n",
            "    uID   mID  rating\n",
            "0  2233   440       4\n",
            "1  4274   587       5\n",
            "2  2498   454       3\n",
            "3  2868  2336       5\n",
            "4  1636  2686       5\n",
            "test:  (300063, 3)\n"
          ]
        }
      ]
    },
    {
      "cell_type": "code",
      "source": [
        "# create data class\n",
        "Data = namedtuple('Data', ['users','movies','train','test'])\n",
        "data = Data(MV_users, MV_movies, train, test)"
      ],
      "metadata": {
        "id": "HvT80J0bUuaf"
      },
      "execution_count": null,
      "outputs": []
    },
    {
      "cell_type": "code",
      "source": [
        "# Build a class for computation\n",
        "class RecSys():\n",
        "    def __init__(self,data):\n",
        "        self.data=data\n",
        "        self.allusers = list(self.data.users['uID'])\n",
        "        self.allmovies = list(self.data.movies['mID'])\n",
        "        self.genres = list(self.data.movies.columns.drop(['mID', 'title', 'year']))\n",
        "        self.mid2idx = dict(zip(self.data.movies.mID,list(range(len(self.data.movies)))))\n",
        "        self.uid2idx = dict(zip(self.data.users.uID,list(range(len(self.data.users)))))\n",
        "        self.Mr=None\n",
        "        self.Mm=None\n",
        "        self.sim=np.zeros((len(self.allmovies),len(self.allmovies))) #movie movie similarity\n",
        "\n",
        "    def init_rating_matrix_Mr(self): #utility matrix put to self.Mr\n",
        "        \"\"\"\n",
        "        Convert the rating matrix to numpy array of shape (#allusers,#allmovies) in ids\n",
        "        \"\"\"\n",
        "        # get index of uID, mID\n",
        "        ind_movie = [self.mid2idx[x] for x in self.data.train.mID]\n",
        "        ind_user = [self.uid2idx[x] for x in self.data.train.uID]\n",
        "\n",
        "        rating_train = list(self.data.train.rating)\n",
        "        self.Mr = np.array(coo_matrix((rating_train, (ind_user, ind_movie)), shape=(len(self.allusers), len(self.allmovies))).toarray())\n",
        "        return\n",
        "\n",
        "    def Mr_impute_to_3(self):\n",
        "        \"\"\"\n",
        "        Impute missing values to 3 for the test data\n",
        "        \"\"\"\n",
        "        Mr_imputed = np.where(self.Mr == 0, 3, self.Mr)\n",
        "        # Update self.Mr\n",
        "        self.Mr = Mr_imputed\n",
        "        return\n",
        "\n",
        "    def Mr_impute_to_user_avg(self):\n",
        "        \"\"\"\n",
        "        Predict to average rating for the user.\n",
        "        Returns numpy array\n",
        "        \"\"\"\n",
        "        Mr = sp.csr_matrix(self.Mr)\n",
        "        user_avg =  np.sum(Mr, axis=1 ) /  np.sum(Mr>0, axis= 1)\n",
        "        user_avg = sp.csr_matrix(user_avg)\n",
        "        user_avg = sp.hstack([user_avg]* Mr.shape[1] ).toarray()\n",
        "        Mr_imputed = np.where(self.Mr == 0, user_avg, self.Mr)\n",
        "        # Update self.Mr\n",
        "        self.Mr = Mr_imputed\n",
        "        return\n",
        "\n",
        "\n",
        "    def pred(self):\n",
        "        ratings=[]\n",
        "        for i in range(self.data.test.shape[0]):\n",
        "            uid = self.data.test['uID'][i]\n",
        "            mid = self.data.test['mID'][i]\n",
        "            uid_idx = self.uid2idx[uid]\n",
        "            mid_idx = self.mid2idx[mid]\n",
        "            ratings.append(self.Mr[uid_idx, mid_idx])\n",
        "            # print(Mr[uid_idx, mid_idx])\n",
        "        return np.array(ratings)\n",
        "\n",
        "    def rmse(self,yp):\n",
        "        yp[np.isnan(yp)] = 3\n",
        "        yt = np.array(self.data.test.rating)\n",
        "        return np.sqrt(((yt-yp)**2).mean())\n"
      ],
      "metadata": {
        "id": "3z8bVR0OUugw"
      },
      "execution_count": null,
      "outputs": []
    },
    {
      "cell_type": "code",
      "source": [
        "# create data class and calculate user-rating matrix\n",
        "mydata = RecSys(data)\n",
        "mydata.init_rating_matrix_Mr()"
      ],
      "metadata": {
        "id": "dvXpYEvYb2XE"
      },
      "execution_count": null,
      "outputs": []
    },
    {
      "cell_type": "code",
      "source": [
        "# Build and train NMF\n",
        "nmf = NMF(n_components=20,\n",
        "                        init='nndsvda',\n",
        "                        solver = 'mu',\n",
        "                        beta_loss = 'kullback-leibler',\n",
        "                        l1_ratio =0.5,\n",
        "                        random_state = 1)\n",
        "nmf_train = nmf.fit_transform(mydata.Mr)"
      ],
      "metadata": {
        "id": "iD2IZILYUumL"
      },
      "execution_count": null,
      "outputs": []
    },
    {
      "cell_type": "code",
      "source": [
        "# Update user-movie rating utility matrix and get rmse\n",
        "mydata.Mr = np.dot(nmf_train, nmf.components_)\n",
        "yp=mydata.pred()\n",
        "rmse_test = mydata.rmse(yp)\n",
        "print(\"RMSE on test data leaving all sparse items as 0s:\", rmse_test)"
      ],
      "metadata": {
        "id": "p7nzqkliUuo0",
        "colab": {
          "base_uri": "https://localhost:8080/"
        },
        "outputId": "9d9dd89b-0dc7-44c2-dccf-7d92348e1b35"
      },
      "execution_count": null,
      "outputs": [
        {
          "output_type": "stream",
          "name": "stdout",
          "text": [
            "RMSE on test data leaving all sparse items as 0s: 2.878007270374805\n"
          ]
        }
      ]
    },
    {
      "cell_type": "markdown",
      "source": [
        "From a first try with just the sparse user-rating matrix, the rmse from NMF is 2.88! It's doubled or even tripled compared to simple baseline or similarity-based methods we’ve done in Module 3 shown below:  <br>\n",
        "\n",
        "\n",
        "|Method|RMSE|\n",
        "|:----|:--------:|\n",
        "|Baseline, $Y_p$=3|1.2585510334053043 |\n",
        "|Baseline, $Y_p=\\mu_u$|1.0352910334228647 |\n",
        "|Content based, item-item|1.0128116783754684 |\n",
        "|Collaborative, cosine|1.0263081874204125 |\n",
        "|Collaborative, jaccard, $M_r\\geq 3$|0.9819058692126349  |\n",
        "|Collaborative, jaccard, $M_r\\geq 1$|0.991363571262366  |\n",
        "|Collaborative, jaccard, $M_r$|0.9516534264490534  |\n",
        "\n",
        "\n"
      ],
      "metadata": {
        "id": "Zt4zjf5kJv8z"
      }
    },
    {
      "cell_type": "markdown",
      "source": [
        "# <a id=\"2\"></a>\n",
        "# Part 2: Why NMF fails and how to fix it.\n",
        "\n",
        "Why NMF didn't perform well compared to baseline, content-based, similarity-based collaborative models? For matrix factorization, we need to do singular value decomposition. But singular value decomosition won't be efficient with lots of zeros (sparse matrix). The results won't be accurate.\n",
        "\n",
        "In a deeper look, we use Frobenius norm for the loss function. If we have missing values as zero while they are actually not really zero but just 'unknown', the gradient wouldn't update towards the right direction.\n",
        "\n",
        "So, my first suggestion is to impute the missing values before doing the NMF training (so the matrix isn't sparse anymore). Let's actually try it next! First, I will try to impute the missing values with just a single average rating of 3 (the rating can be 0,1,2,3,4 so '3' is the 'universal' average 😁)"
      ],
      "metadata": {
        "id": "96qa-j-PKus2"
      }
    },
    {
      "cell_type": "markdown",
      "source": [
        "### Part 2.1: Impute missing values with 'universal' average rating of 3 before NMF."
      ],
      "metadata": {
        "id": "SEzAKsE4M-h3"
      }
    },
    {
      "cell_type": "code",
      "source": [
        "# replace zero with nan for future replacement\n",
        "mydata = RecSys(data)\n",
        "mydata.init_rating_matrix_Mr()\n",
        "print('user-rating before imputing:\\n', mydata.Mr)\n",
        "mydata.Mr_impute_to_3()\n",
        "print('user-rating after imputing:\\n', mydata.Mr)"
      ],
      "metadata": {
        "colab": {
          "base_uri": "https://localhost:8080/"
        },
        "id": "GL5YB_lWNKG5",
        "outputId": "9eccd8f2-278f-4def-a7c0-1d91b3699f49"
      },
      "execution_count": null,
      "outputs": [
        {
          "output_type": "stream",
          "name": "stdout",
          "text": [
            "user-rating before imputing:\n",
            " [[5 0 0 ... 0 0 0]\n",
            " [0 0 0 ... 0 0 0]\n",
            " [0 0 0 ... 0 0 0]\n",
            " ...\n",
            " [0 0 0 ... 0 0 0]\n",
            " [0 0 0 ... 0 0 0]\n",
            " [3 0 0 ... 0 0 0]]\n",
            "user-rating after imputing:\n",
            " [[5 3 3 ... 3 3 3]\n",
            " [3 3 3 ... 3 3 3]\n",
            " [3 3 3 ... 3 3 3]\n",
            " ...\n",
            " [3 3 3 ... 3 3 3]\n",
            " [3 3 3 ... 3 3 3]\n",
            " [3 3 3 ... 3 3 3]]\n"
          ]
        }
      ]
    },
    {
      "cell_type": "markdown",
      "source": [
        "Great! We've successfully replaced all those 0's with 3's. We don't have sparsity problem for NMF anymore. Let's try NMF again and see how RMSE goes..."
      ],
      "metadata": {
        "id": "qqyWhYbovvED"
      }
    },
    {
      "cell_type": "code",
      "source": [
        "# NMF training\n",
        "nmf = NMF(n_components=20,\n",
        "                        init='nndsvda',\n",
        "                        solver = 'mu',\n",
        "                        beta_loss = 'kullback-leibler',\n",
        "                        l1_ratio =0.5,\n",
        "                        random_state = 1)\n",
        "nmf_train = nmf.fit_transform(mydata.Mr)"
      ],
      "metadata": {
        "id": "WpA9Zv7vkuCX"
      },
      "execution_count": null,
      "outputs": []
    },
    {
      "cell_type": "code",
      "source": [
        "# Update user-movie rating utility matrix and get rmse\n",
        "mydata.Mr = np.dot(nmf_train, nmf.components_)\n",
        "yp=mydata.pred()\n",
        "rmse_test = mydata.rmse(yp)\n",
        "print(\"RMSE on test data after imputing missing values with 3:\", rmse_test)"
      ],
      "metadata": {
        "colab": {
          "base_uri": "https://localhost:8080/"
        },
        "id": "iOHdMm8praNu",
        "outputId": "6efc8007-a8de-4f0e-df39-1a6984af0e19"
      },
      "execution_count": null,
      "outputs": [
        {
          "output_type": "stream",
          "name": "stdout",
          "text": [
            "RMSE on test data after imputing missing values with 3: 1.1349448575380794\n"
          ]
        }
      ]
    },
    {
      "cell_type": "markdown",
      "source": [
        "😄Seems the imputing works. The RMSE now lowered to 1.1349! We can conclude my suggestion of impute 0's with 3's works good here to improve the problem of sparsity for matrix factorization or singular value decomposition a bit.\n",
        "\n",
        "Next, let's try to impute with  user average and see how RMSE goes..."
      ],
      "metadata": {
        "id": "zwEZ_bBSuivc"
      }
    },
    {
      "cell_type": "markdown",
      "source": [
        "### Part 2.2: Impute missing values with user averages"
      ],
      "metadata": {
        "id": "ZSOt2kL81Jsq"
      }
    },
    {
      "cell_type": "code",
      "source": [
        "# replace zero with nan for future replacement\n",
        "mydata = RecSys(data)\n",
        "mydata.init_rating_matrix_Mr()\n",
        "print('user-rating before imputing:\\n', mydata.Mr)\n",
        "mydata.Mr_impute_to_user_avg()\n",
        "print('user-rating after imputing:\\n', mydata.Mr)"
      ],
      "metadata": {
        "colab": {
          "base_uri": "https://localhost:8080/"
        },
        "id": "Svjj86jIz_bX",
        "outputId": "c9777757-4564-43ef-def5-a2122c5d161c"
      },
      "execution_count": null,
      "outputs": [
        {
          "output_type": "stream",
          "name": "stdout",
          "text": [
            "user-rating before imputing:\n",
            " [[5 0 0 ... 0 0 0]\n",
            " [0 0 0 ... 0 0 0]\n",
            " [0 0 0 ... 0 0 0]\n",
            " ...\n",
            " [0 0 0 ... 0 0 0]\n",
            " [0 0 0 ... 0 0 0]\n",
            " [3 0 0 ... 0 0 0]]\n",
            "user-rating after imputing:\n",
            " [[5.         4.21428571 4.21428571 ... 4.21428571 4.21428571 4.21428571]\n",
            " [3.64893617 3.64893617 3.64893617 ... 3.64893617 3.64893617 3.64893617]\n",
            " [3.91428571 3.91428571 3.91428571 ... 3.91428571 3.91428571 3.91428571]\n",
            " ...\n",
            " [4.         4.         4.         ... 4.         4.         4.        ]\n",
            " [3.8255814  3.8255814  3.8255814  ... 3.8255814  3.8255814  3.8255814 ]\n",
            " [3.         3.49561404 3.49561404 ... 3.49561404 3.49561404 3.49561404]]\n"
          ]
        }
      ]
    },
    {
      "cell_type": "code",
      "source": [
        "# NMF training\n",
        "nmf = NMF(n_components=20,\n",
        "                        init='nndsvda',\n",
        "                        solver = 'mu',\n",
        "                        beta_loss = 'kullback-leibler',\n",
        "                        l1_ratio =0.5,\n",
        "                        random_state = 1)\n",
        "nmf_train = nmf.fit_transform(mydata.Mr)"
      ],
      "metadata": {
        "id": "DuqnAIaE19sh"
      },
      "execution_count": null,
      "outputs": []
    },
    {
      "cell_type": "code",
      "source": [
        "# Update user-movie rating utility matrix and get rmse\n",
        "mydata.Mr = np.dot(nmf_train, nmf.components_)\n",
        "yp=mydata.pred()\n",
        "rmse_test = mydata.rmse(yp)\n",
        "print(\"RMSE on test data after imputing missing values with user average:\", rmse_test)"
      ],
      "metadata": {
        "colab": {
          "base_uri": "https://localhost:8080/"
        },
        "id": "WgW0RxHn2NSc",
        "outputId": "9b30da74-7616-46fb-e763-2fc716b5d515"
      },
      "execution_count": null,
      "outputs": [
        {
          "output_type": "stream",
          "name": "stdout",
          "text": [
            "RMSE on test data after imputing missing values with user average: 1.003049841656218\n"
          ]
        }
      ]
    },
    {
      "cell_type": "markdown",
      "source": [
        "😀Yeah! the RMSE now went down to 1.003! It seems that the more precise (reasonable) we impute the missing values, the better the NMF performs. So, the key to 'cure' the sparisty problem in NMF is good imputing on missing data."
      ],
      "metadata": {
        "id": "IkNqwmhWAN3Q"
      }
    },
    {
      "cell_type": "markdown",
      "source": [
        "## Conclusion\n",
        "Through this mini exercise, we can see one limitation of the matrix factorization is that it doesn't work well with very sparse matrix because singular decomposition isn't effecient on sparse matrix.\n",
        "\n",
        "If we don't fix that, the performance is even worse than some baseline methods like predicting everything to a single average or user average.\n",
        "\n",
        "One way to fix is that we could impute the 0's with some reasonable values. In this exercise, we can see if we impute the missing ratings with an universal average of 3, the RMSE dropped to 1.1349. And if we impute the missing ratings with the user average, the RMSE further dropped to 1.003. That's already better than content based or collaborative method with cosine similarity. So, it seem the better we impute the missing values, the better the NMF performs!\n",
        "\n",
        "The reason is that the better we impute the missing values,  the better the loss function would provide current gradient. Although, note since the imputed values aren't the actual, the gradient during optimization won't be the real correct one (we can only make it less wrong but can't make it absolutely correct).\n",
        "\n",
        "I believe imputing the sparse matrix is key to solve NMF limitations. However note for this exercise, I haven't tune the NMF model much. Since the goal of this exercise is just to see the limitation of the NMF model (which is on sparse matrix) and suggest ways to improve it, I am going to leave the tuning to other projects. But certainly I think RMSE could further improve.  \n",
        "\n",
        "\n",
        "\n"
      ],
      "metadata": {
        "id": "IVnk9y9twcfz"
      }
    },
    {
      "cell_type": "markdown",
      "source": [
        "|Method|RMSE|\n",
        "|:----|:--------:|\n",
        "|Baseline, $Y_p$=3|1.2585510334053043 |\n",
        "|Baseline, $Y_p=\\mu_u$|1.0352910334228647 |\n",
        "|Content based, item-item|1.0128116783754684 |\n",
        "|Collaborative, cosine|1.0263081874204125 |\n",
        "|Collaborative, jaccard, $M_r\\geq 3$|0.9819058692126349  |\n",
        "|Collaborative, jaccard, $M_r\\geq 1$|0.991363571262366  |\n",
        "|Collaborative, jaccard, $M_r$|0.9516534264490534  |\n",
        "|NMF leaving sparse cells alone (as 0's) |2.878007270374805|\n",
        "|NMF impute 0 with 3| 1.1349448575380794|\n",
        "|NMF impute 0 with user average| 1.003049841656218|"
      ],
      "metadata": {
        "id": "4NCrRE946R4Y"
      }
    }
  ]
}